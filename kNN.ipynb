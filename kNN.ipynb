{
 "cells": [
  {
   "cell_type": "markdown",
   "metadata": {},
   "source": [
    "# kNN\n",
    "\n",
    "First we import our data and we transfrom the y_samples and y_test into vectors with integers where if the outcome is malignant we write 1 and 0 if it is benign. \n",
    "\n",
    "Normalization when working with distance metric is very important, since working with vastly different ranges can render one or some predictor variables to dominate the distances. Hence we standardise the X_samples and X_test data. Since the size of the sample data is bigger than the size of the test data, we use the estimates of the mean and standard deviation from the larger data sets on the tumour_test datasets as well, as it is more reliable (this might not be the case if the two datasets are taken from different regions, however, here we assume that the data is separated into samples and test sets randomly).\n",
    "\n",
    "Then, similar to the coding task, we create a couple of functions that help us train a KNN classifier. "
   ]
  },
  {
   "cell_type": "code",
   "execution_count": 7,
   "metadata": {},
   "outputs": [],
   "source": [
    "# import modules\n",
    "import numpy as np\n",
    "import pandas as pd\n",
    "import matplotlib.pyplot as plt"
   ]
  },
  {
   "cell_type": "code",
   "execution_count": 8,
   "metadata": {},
   "outputs": [],
   "source": [
    "tumour_samples = pd.read_csv('tumour_samples.csv')\n",
    "tumour_test = pd.read_csv('tumour_test.csv')"
   ]
  },
  {
   "cell_type": "code",
   "execution_count": 9,
   "metadata": {},
   "outputs": [],
   "source": [
    "# Convert categorical labels to numbers\n",
    "diagnosis_map = {'M': 1, 'B': 0}\n",
    "\n",
    "# Import and standardise predictor train data\n",
    "X_tumor_samples = tumour_samples.iloc[:,1:-1].to_numpy()\n",
    "# Save the mean and std to standardize the X_tumor_test dataset\n",
    "mu, sigma = np.mean(X_tumor_samples, axis = 0), np.std(X_tumor_samples, axis = 0)\n",
    "# Standardize\n",
    "X_tumor_samples_std = (X_tumor_samples - mu) / sigma\n",
    "\n",
    "# Import outcome train data\n",
    "y_tumor_samples = tumour_samples['DIAGNOSIS'].map(diagnosis_map).to_numpy()\n",
    "\n",
    "# Import and standardise predictor test data\n",
    "X_tumor_test = tumour_test.iloc[:,1:-1].to_numpy()\n",
    "X_tumor_test_std = (X_tumor_test - mu) / sigma\n",
    "\n",
    "# Import outcome test data\n",
    "y_tumor_test = tumour_test['DIAGNOSIS'].map(diagnosis_map).to_numpy()"
   ]
  },
  {
   "cell_type": "code",
   "execution_count": 10,
   "metadata": {},
   "outputs": [],
   "source": [
    "def euclidian_distance(p, q):\n",
    "    \"\"\"Returns the Euclidean distance between two points.\"\"\"\n",
    "    \n",
    "    return np.sqrt(np.sum((p-q)**2, axis=1))"
   ]
  },
  {
   "cell_type": "code",
   "execution_count": 11,
   "metadata": {},
   "outputs": [],
   "source": [
    "def k_neighbours(X_train, X_test, k):\n",
    "    \"\"\"Returns the k neighbours which are closest to our test points.\"\"\"\n",
    "\n",
    "    neighbours_indexes = []\n",
    "\n",
    "    # Compute distance from each point x_test in X_test to all points in X_train\n",
    "    point_distance = [euclidian_distance(x_test, X_train) for x_test in X_test]\n",
    "\n",
    "    # Determine which k training points are closest to each test point\n",
    "    for row in point_distance:\n",
    "        enum_neighbour = enumerate(row)\n",
    "        sorted_neighbour = sorted(enum_neighbour, key=lambda x: x[1])[:k]\n",
    "        ind_list = [tup[0] for tup in sorted_neighbour]\n",
    "        neighbours_indexes.append(ind_list)\n",
    "  \n",
    "    return np.array(neighbours_indexes)"
   ]
  },
  {
   "cell_type": "code",
   "execution_count": 12,
   "metadata": {},
   "outputs": [],
   "source": [
    "def predict(X_train, y_train, X_test, k):\n",
    "    \"\"\"Returns our prediction on how any testing point is classified.\"\"\"\n",
    "    \n",
    "    # Each of the k neighbours contributes equally to the classification of any data point in X_test  \n",
    "    neighbours = k_neighbours(X_train, X_test, k)\n",
    "\n",
    "    # Count number of occurences of label with np.bincount and choose the label that has most with np.argmax\n",
    "    y_prediction = np.array([np.argmax(np.bincount(y_train[neighbour])) for neighbour in neighbours])\n",
    "    \n",
    "    return y_prediction"
   ]
  },
  {
   "cell_type": "code",
   "execution_count": 13,
   "metadata": {},
   "outputs": [],
   "source": [
    "def score_knn(X_train, y_train, X_test, y_test, k):\n",
    "    \"\"\"Computes the proportion of the correctly classified test points.\"\"\"\n",
    "\n",
    "    # compute our predictions\n",
    "    y_prediction = predict(X_train, y_train, X_test, k)\n",
    "\n",
    "    # calculate the proportion\n",
    "    score = np.mean(y_prediction == y_test)\n",
    "    \n",
    "    return score"
   ]
  },
  {
   "cell_type": "code",
   "execution_count": 14,
   "metadata": {},
   "outputs": [],
   "source": [
    "def cross_validation_score_knn(X_train, y_train, folds, k, print_accuracy=True):\n",
    "  \"\"\"Computes the average score over n-fold cross validation for a given k.\"\"\"\n",
    "  \n",
    "  scores = []\n",
    "\n",
    "  # Set train and validation indices\n",
    "  for i in range(len(folds)):\n",
    "    val_indexes = folds[i]\n",
    "    train_indexes = list(set(range(y_train.shape[0])) - set(val_indexes))\n",
    "    \n",
    "    # Separate the data into training and validation\n",
    "    X_train_i = X_train[train_indexes, :]\n",
    "    y_train_i = y_train[train_indexes]\n",
    "    X_val_i = X_train[val_indexes, :]\n",
    "    y_val_i = y_train[val_indexes]\n",
    "\n",
    "    # Compute the score for this fold\n",
    "    score_i = score_knn(X_train_i, y_train_i, X_val_i, y_val_i, k=k)\n",
    "    scores.append(score_i)\n",
    "    if print_accuracy == True:\n",
    "      print(\"Accuracy on validation set #{}: {}\".format(i+1, score_i))\n",
    "\n",
    "  # Return the average score\n",
    "  return np.mean(scores)"
   ]
  },
  {
   "cell_type": "code",
   "execution_count": 15,
   "metadata": {},
   "outputs": [],
   "source": [
    "def choose_best_k(X_train, y_train, folds, k_range, print_accuracy = True):\n",
    "  \"\"\"Find the optimal value for the parameter k over the range k_range.\"\"\"\n",
    "\n",
    "  # Initialize scores\n",
    "  k_scores = np.zeros(len(k_range))\n",
    "  \n",
    "  # Loop over each k and store the score \n",
    "  for i, k in enumerate(k_range):\n",
    "    k_scores[i] = cross_validation_score_knn(X_train,\n",
    "                                             y_train,\n",
    "                                             folds,\n",
    "                                             k,\n",
    "                                             print_accuracy)\n",
    "    # Print the accuracy for each fold\n",
    "    print(f'Average accuracy over {len(folds)} folds at k={k}: {k_scores[i]:}')\n",
    "    print(\"_\"*60)\n",
    "  \n",
    "  # Find the index of the k corresponding to the largest score\n",
    "  best_k_index = np.argmax(k_scores)\n",
    "  \n",
    "  # Return the optimal value for k\n",
    "  return k_range[best_k_index]\n"
   ]
  },
  {
   "cell_type": "code",
   "execution_count": 16,
   "metadata": {},
   "outputs": [
    {
     "data": {
      "image/png": "[encoded data removed]",
      "text/plain": [
       "<Figure size 1800x720 with 1 Axes>"
      ]
     },
     "metadata": {
      "needs_background": "light"
     },
     "output_type": "display_data"
    }
   ],
   "source": [
    "# Create folds\n",
    "folds = np.array_split(np.arange(len(y_tumor_samples)), 5)\n",
    "\n",
    "# Set the range for k\n",
    "k_range = np.arange(1,50)\n",
    "\n",
    "# Store scores for k in the k_range\n",
    "scores_knn = [cross_validation_score_knn(X_tumor_samples_std, \n",
    "                                         y_tumor_samples,\n",
    "                                         folds,\n",
    "                                         k,\n",
    "                                         print_accuracy=False) for k in k_range]\n",
    "\n",
    "# Plot\n",
    "plt.figure(figsize=(25,10))\n",
    "plt.plot(k_range, scores_knn)\n",
    "plt.title(\"Accuracy for different values of k\", size=20)\n",
    "plt.xlabel(\"k\", size=20)\n",
    "plt.ylabel(\"Scores\", size=20)\n",
    "plt.show()"
   ]
  },
  {
   "cell_type": "markdown",
   "metadata": {},
   "source": [
    "From the plot we can see that the highest value of the accuracy is for $k=1$. Below we use our choose_best_k function to confirm that this is the case for a smaller range for $k$ and we also print the accuracy for each fold and the mean accuracy of all $5$ folds for each $k$ to demonstrate the grid search with $5$-fold cross-validation."
   ]
  },
  {
   "cell_type": "code",
   "execution_count": 17,
   "metadata": {},
   "outputs": [
    {
     "name": "stdout",
     "output_type": "stream",
     "text": [
      "Accuracy on validation set #1: 0.9902723735408561\n",
      "Accuracy on validation set #2: 1.0\n",
      "Accuracy on validation set #3: 1.0\n",
      "Accuracy on validation set #4: 0.9902534113060428\n",
      "Accuracy on validation set #5: 1.0\n",
      "Average accuracy over 5 folds at k=1: 0.9961051569693797\n",
      "____________________________________________________________\n",
      "Accuracy on validation set #1: 0.9785992217898832\n",
      "Accuracy on validation set #2: 0.98635477582846\n",
      "Accuracy on validation set #3: 0.98635477582846\n",
      "Accuracy on validation set #4: 0.9727095516569201\n",
      "Accuracy on validation set #5: 0.9902534113060428\n",
      "Average accuracy over 5 folds at k=2: 0.9828543472819533\n",
      "____________________________________________________________\n",
      "Accuracy on validation set #1: 0.9785992217898832\n",
      "Accuracy on validation set #2: 0.9902534113060428\n",
      "Accuracy on validation set #3: 0.98635477582846\n",
      "Accuracy on validation set #4: 0.9746588693957114\n",
      "Accuracy on validation set #5: 0.9902534113060428\n",
      "Average accuracy over 5 folds at k=3: 0.984023937925228\n",
      "____________________________________________________________\n",
      "Accuracy on validation set #1: 0.9766536964980544\n",
      "Accuracy on validation set #2: 0.9805068226120858\n",
      "Accuracy on validation set #3: 0.9805068226120858\n",
      "Accuracy on validation set #4: 0.9727095516569201\n",
      "Accuracy on validation set #5: 0.9883040935672515\n",
      "Average accuracy over 5 folds at k=4: 0.9797361973892794\n",
      "____________________________________________________________\n",
      "The optimal value of k is: 1\n"
     ]
    }
   ],
   "source": [
    "# Set k_range from 1 to 4\n",
    "k_range = np.arange(1, 5)\n",
    "\n",
    "# compute the optimal value of k\n",
    "optimal_k = choose_best_k(X_tumor_samples_std,\n",
    "                          y_tumor_samples,\n",
    "                          folds,\n",
    "                          k_range)\n",
    "\n",
    "# Print optimal k\n",
    "print('The optimal value of k is:', optimal_k)"
   ]
  },
  {
   "cell_type": "markdown",
   "metadata": {},
   "source": [
    "We see that the optimal $k$ is $1$ and the average accuracy over the $5$ validation sets is $0.9961051569693797$, which is very high suggesting that our model could have high accuracy predictions. This means that each object is simply assigned to the class of that single nearest neighbor."
   ]
  },
  {
   "cell_type": "markdown",
   "metadata": {},
   "source": [
    "We now fix $k = $ optimal_k and retrain the model on the whole sample dataset. First we print the accuracy on the entire training set and then we find the accuracy for the test set."
   ]
  },
  {
   "cell_type": "code",
   "execution_count": 18,
   "metadata": {},
   "outputs": [
    {
     "name": "stdout",
     "output_type": "stream",
     "text": [
      "Accuracy on the tumour_samples.csv dataset is:  1.0\n",
      "Accuracy on the tumour_test.csv dataset is:  1.0\n"
     ]
    }
   ],
   "source": [
    "# Find the accuracy on the sample set\n",
    "tumor_sample_accuracy = score_knn(X_tumor_samples_std,\n",
    "                                  y_tumor_samples,\n",
    "                                  X_tumor_samples_std,\n",
    "                                  y_tumor_samples,\n",
    "                                  k=optimal_k)\n",
    "print(\"Accuracy on the tumour_samples.csv dataset is: \", tumor_sample_accuracy)\n",
    "\n",
    "# Find the accuracy on the test set\n",
    "tumor_test_accuracy = score_knn(X_tumor_samples_std,\n",
    "                                y_tumor_samples,\n",
    "                                X_tumor_test_std,\n",
    "                                y_tumor_test,\n",
    "                                k=optimal_k)\n",
    "print(\"Accuracy on the tumour_test.csv dataset is: \", tumor_test_accuracy)"
   ]
  },
  {
   "cell_type": "markdown",
   "metadata": {},
   "source": [
    "We expect the accuracy on the tumour_sample.csv dataset to be very high, since this contains only seen data. However, to check whether we have overfitted the model, we test the accuracy on an unseen before dataset (tumour_test.csv). As we can see, we get a $1.0$ accuracy for the test dataset as well so we can conclcude that our model is well generalized and a very good predictor for breast tumor diagnosis."
   ]
  }
 ],
 "metadata": {
  "kernelspec": {
   "display_name": "Python 3.10.6 64-bit (microsoft store)",
   "language": "python",
   "name": "python3"
  },
  "language_info": {
   "codemirror_mode": {
    "name": "ipython",
    "version": 3
   },
   "file_extension": ".py",
   "mimetype": "text/x-python",
   "name": "python",
   "nbconvert_exporter": "python",
   "pygments_lexer": "ipython3",
   "version": "3.10.6"
  },
  "orig_nbformat": 4,
  "vscode": {
   "interpreter": {
    "hash": "58dbfdb34cf82127b32c5737e6183911655ff227e5c11e8f5e4b25048ae98ef2"
   }
  }
 },
 "nbformat": 4,
 "nbformat_minor": 2
}
